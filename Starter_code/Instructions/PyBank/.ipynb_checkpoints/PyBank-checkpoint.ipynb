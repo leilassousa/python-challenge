{
 "cells": [
  {
   "cell_type": "code",
   "execution_count": 19,
   "id": "003e775b-5481-40fe-a515-e87c8e453862",
   "metadata": {
    "tags": []
   },
   "outputs": [],
   "source": [
    "#Importing files\n",
    "import csv"
   ]
  },
  {
   "cell_type": "code",
   "execution_count": 17,
   "id": "105701bc-3511-4a78-b5a6-155da3057653",
   "metadata": {},
   "outputs": [],
   "source": [
    "#Defining path\n",
    "csvpath = os.path.join(\"../Resources/budget_data.csv\")"
   ]
  },
  {
   "cell_type": "code",
   "execution_count": null,
   "id": "c11985a2-0a58-48e3-b7fb-5a5b1b1baf9c",
   "metadata": {},
   "outputs": [],
   "source": [
    "# The total number of months included in the dataset"
   ]
  },
  {
   "cell_type": "code",
   "execution_count": null,
   "id": "863404f6-cde4-41c3-be1f-f632005e72d5",
   "metadata": {},
   "outputs": [],
   "source": [
    "# The net total amount of Profit/Losses over the entire period"
   ]
  },
  {
   "cell_type": "code",
   "execution_count": null,
   "id": "85838928-7ef5-4ee6-a04c-d46fad78cc95",
   "metadata": {},
   "outputs": [],
   "source": [
    "# The average of the changes in Profit/Losses over the entire period"
   ]
  },
  {
   "cell_type": "code",
   "execution_count": null,
   "id": "52bc7f82-89e2-47eb-8610-4feffd997ecf",
   "metadata": {},
   "outputs": [],
   "source": [
    "# The greatest increase in profits (date and amount) over the entire period"
   ]
  },
  {
   "cell_type": "code",
   "execution_count": null,
   "id": "9a36a336-53db-4f30-80de-d5b1390e9cf1",
   "metadata": {},
   "outputs": [],
   "source": [
    "# The greatest decrease in losses (date and amount) over the entire period"
   ]
  }
 ],
 "metadata": {
  "kernelspec": {
   "display_name": "Python 3 (ipykernel)",
   "language": "python",
   "name": "python3"
  },
  "language_info": {
   "codemirror_mode": {
    "name": "ipython",
    "version": 3
   },
   "file_extension": ".py",
   "mimetype": "text/x-python",
   "name": "python",
   "nbconvert_exporter": "python",
   "pygments_lexer": "ipython3",
   "version": "3.9.12"
  }
 },
 "nbformat": 4,
 "nbformat_minor": 5
}
