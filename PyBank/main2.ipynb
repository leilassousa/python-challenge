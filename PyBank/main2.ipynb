{
 "cells": [
  {
   "cell_type": "markdown",
   "id": "c2e937f9-983a-456a-b67e-7484d2d2e382",
   "metadata": {},
   "source": [
    "# Module 2 Callenge"
   ]
  },
  {
   "cell_type": "markdown",
   "id": "5f63611e-e246-4729-8981-2445246ae832",
   "metadata": {},
   "source": [
    "#### Importing file"
   ]
  },
  {
   "cell_type": "code",
   "execution_count": 19,
   "id": "b0da5107-08db-4ba8-a0a5-f4fdb9c44e4a",
   "metadata": {},
   "outputs": [],
   "source": [
    "import csv\n",
    "import pandas as pd\n",
    "from pathlib import Path"
   ]
  },
  {
   "cell_type": "markdown",
   "id": "4664f99f-56c4-410a-a9a3-39a2f33d3b3a",
   "metadata": {},
   "source": [
    "#### Loading csv data"
   ]
  },
  {
   "cell_type": "code",
   "execution_count": 20,
   "id": "ce892294-f632-4401-b809-1c0af99045a1",
   "metadata": {},
   "outputs": [],
   "source": [
    "csv_path = Path(\"../Starter_Code/Instructions/PyBank/Resources/budget_data.csv\")\n",
    "csv_data = pd.read_csv(csv_path)"
   ]
  },
  {
   "cell_type": "markdown",
   "id": "039026e8-fe43-40a5-8a69-214a8b3edb66",
   "metadata": {
    "tags": []
   },
   "source": [
    "#### Reading csv file"
   ]
  },
  {
   "cell_type": "markdown",
   "id": "5765eb35-cc2c-431a-bdfb-67923c5310d3",
   "metadata": {},
   "source": [
    "#### Reference to the file path"
   ]
  },
  {
   "cell_type": "code",
   "execution_count": 21,
   "id": "11a6518a-0848-45d3-abc5-9de93eb65387",
   "metadata": {},
   "outputs": [
    {
     "data": {
      "text/html": [
       "<div>\n",
       "<style scoped>\n",
       "    .dataframe tbody tr th:only-of-type {\n",
       "        vertical-align: middle;\n",
       "    }\n",
       "\n",
       "    .dataframe tbody tr th {\n",
       "        vertical-align: top;\n",
       "    }\n",
       "\n",
       "    .dataframe thead th {\n",
       "        text-align: right;\n",
       "    }\n",
       "</style>\n",
       "<table border=\"1\" class=\"dataframe\">\n",
       "  <thead>\n",
       "    <tr style=\"text-align: right;\">\n",
       "      <th></th>\n",
       "      <th>Date</th>\n",
       "      <th>Profit/Losses</th>\n",
       "    </tr>\n",
       "  </thead>\n",
       "  <tbody>\n",
       "    <tr>\n",
       "      <th>0</th>\n",
       "      <td>Jan-2010</td>\n",
       "      <td>867884</td>\n",
       "    </tr>\n",
       "    <tr>\n",
       "      <th>1</th>\n",
       "      <td>Feb-2010</td>\n",
       "      <td>984655</td>\n",
       "    </tr>\n",
       "    <tr>\n",
       "      <th>2</th>\n",
       "      <td>Mar-2010</td>\n",
       "      <td>322013</td>\n",
       "    </tr>\n",
       "    <tr>\n",
       "      <th>3</th>\n",
       "      <td>Apr-2010</td>\n",
       "      <td>-69417</td>\n",
       "    </tr>\n",
       "    <tr>\n",
       "      <th>4</th>\n",
       "      <td>May-2010</td>\n",
       "      <td>310503</td>\n",
       "    </tr>\n",
       "  </tbody>\n",
       "</table>\n",
       "</div>"
      ],
      "text/plain": [
       "       Date  Profit/Losses\n",
       "0  Jan-2010         867884\n",
       "1  Feb-2010         984655\n",
       "2  Mar-2010         322013\n",
       "3  Apr-2010         -69417\n",
       "4  May-2010         310503"
      ]
     },
     "execution_count": 21,
     "metadata": {},
     "output_type": "execute_result"
    }
   ],
   "source": [
    "budget_data = pd.read_csv (csv_path)\n",
    "budget_data.head()"
   ]
  },
  {
   "cell_type": "markdown",
   "id": "65bdf446-600c-475a-bc05-d13a9c471bb9",
   "metadata": {},
   "source": [
    "### Solving Challenge questions"
   ]
  },
  {
   "cell_type": "code",
   "execution_count": 16,
   "id": "42887650-61e6-43ce-805c-968e963b04bf",
   "metadata": {},
   "outputs": [],
   "source": [
    "# Creating dataframe\n",
    "df = budget_data"
   ]
  },
  {
   "cell_type": "code",
   "execution_count": 22,
   "id": "b66e09bf-512e-4802-a66b-e00045cd6d16",
   "metadata": {},
   "outputs": [
    {
     "data": {
      "text/plain": [
       "86"
      ]
     },
     "execution_count": 22,
     "metadata": {},
     "output_type": "execute_result"
    }
   ],
   "source": [
    "#1. The total number of months included in the dataset\n",
    "df['Date'].count()"
   ]
  },
  {
   "cell_type": "code",
   "execution_count": 23,
   "id": "f6054493-77e9-4c31-8cde-15dc1b88c640",
   "metadata": {},
   "outputs": [
    {
     "data": {
      "text/plain": [
       "38382578"
      ]
     },
     "execution_count": 23,
     "metadata": {},
     "output_type": "execute_result"
    }
   ],
   "source": [
    "# The net total amount of Profit/Losses over the entire period.\n",
    "df['Profit/Losses'].sum()"
   ]
  },
  {
   "cell_type": "code",
   "execution_count": 24,
   "id": "3cf7cb4f-4e79-4a06-9107-096179210be5",
   "metadata": {},
   "outputs": [
    {
     "data": {
      "text/plain": [
       "446309.0465116279"
      ]
     },
     "execution_count": 24,
     "metadata": {},
     "output_type": "execute_result"
    }
   ],
   "source": [
    "# The average of the changes in Profit/Losses over the entire period.\n",
    "df['Profit/Losses'].mean()"
   ]
  },
  {
   "cell_type": "code",
   "execution_count": null,
   "id": "d12e8969-1f7c-427b-a71c-43d88fc75e59",
   "metadata": {},
   "outputs": [],
   "source": [
    "# The greatest increase in profits (date and amount) over the entire period.\n",
    "df['Profit/Losses'].max()\n",
    "\n",
    "# The greatest decrease in losses (date and amount) over the entire period.\n",
    "df['Profit/Losses'].min()"
   ]
  },
  {
   "cell_type": "code",
   "execution_count": null,
   "id": "b3b853f1-5f1f-4931-870f-bb381d10b4a5",
   "metadata": {},
   "outputs": [],
   "source": []
  }
 ],
 "metadata": {
  "kernelspec": {
   "display_name": "Python 3 (ipykernel)",
   "language": "python",
   "name": "python3"
  },
  "language_info": {
   "codemirror_mode": {
    "name": "ipython",
    "version": 3
   },
   "file_extension": ".py",
   "mimetype": "text/x-python",
   "name": "python",
   "nbconvert_exporter": "python",
   "pygments_lexer": "ipython3",
   "version": "3.9.12"
  }
 },
 "nbformat": 4,
 "nbformat_minor": 5
}
